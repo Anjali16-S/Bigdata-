{
  "nbformat": 4,
  "nbformat_minor": 0,
  "metadata": {
    "colab": {
      "provenance": [],
      "authorship_tag": "ABX9TyOz6NhUl6TmjJC1wehJ4V7W",
      "include_colab_link": true
    },
    "kernelspec": {
      "name": "python3",
      "display_name": "Python 3"
    },
    "language_info": {
      "name": "python"
    }
  },
  "cells": [
    {
      "cell_type": "markdown",
      "metadata": {
        "id": "view-in-github",
        "colab_type": "text"
      },
      "source": [
        "<a href=\"https://colab.research.google.com/github/Anjali16-S/Bigdata-/blob/main/Assignment2_TF_IDF.ipynb\" target=\"_parent\"><img src=\"https://colab.research.google.com/assets/colab-badge.svg\" alt=\"Open In Colab\"/></a>"
      ]
    },
    {
      "cell_type": "markdown",
      "source": [
        "# Anjali Singh\n",
        "# 202318050"
      ],
      "metadata": {
        "id": "fhCkqxWgptIB"
      }
    },
    {
      "cell_type": "code",
      "execution_count": 1,
      "metadata": {
        "id": "mu0e7GsUyBOS"
      },
      "outputs": [],
      "source": [
        "from sklearn.datasets import fetch_20newsgroups"
      ]
    },
    {
      "cell_type": "code",
      "source": [
        "data = fetch_20newsgroups(subset=\"train\")\n",
        "print(data.data[2])\n"
      ],
      "metadata": {
        "colab": {
          "base_uri": "https://localhost:8080/"
        },
        "id": "cwU_vLKmyouu",
        "outputId": "f6dea7c9-fb19-4406-d7e1-95874516996d"
      },
      "execution_count": 2,
      "outputs": [
        {
          "output_type": "stream",
          "name": "stdout",
          "text": [
            "From: twillis@ec.ecn.purdue.edu (Thomas E Willis)\n",
            "Subject: PB questions...\n",
            "Organization: Purdue University Engineering Computer Network\n",
            "Distribution: usa\n",
            "Lines: 36\n",
            "\n",
            "well folks, my mac plus finally gave up the ghost this weekend after\n",
            "starting life as a 512k way back in 1985.  sooo, i'm in the market for a\n",
            "new machine a bit sooner than i intended to be...\n",
            "\n",
            "i'm looking into picking up a powerbook 160 or maybe 180 and have a bunch\n",
            "of questions that (hopefully) somebody can answer:\n",
            "\n",
            "* does anybody know any dirt on when the next round of powerbook\n",
            "introductions are expected?  i'd heard the 185c was supposed to make an\n",
            "appearence \"this summer\" but haven't heard anymore on it - and since i\n",
            "don't have access to macleak, i was wondering if anybody out there had\n",
            "more info...\n",
            "\n",
            "* has anybody heard rumors about price drops to the powerbook line like the\n",
            "ones the duo's just went through recently?\n",
            "\n",
            "* what's the impression of the display on the 180?  i could probably swing\n",
            "a 180 if i got the 80Mb disk rather than the 120, but i don't really have\n",
            "a feel for how much \"better\" the display is (yea, it looks great in the\n",
            "store, but is that all \"wow\" or is it really that good?).  could i solicit\n",
            "some opinions of people who use the 160 and 180 day-to-day on if its worth\n",
            "taking the disk size and money hit to get the active display?  (i realize\n",
            "this is a real subjective question, but i've only played around with the\n",
            "machines in a computer store breifly and figured the opinions of somebody\n",
            "who actually uses the machine daily might prove helpful).\n",
            "\n",
            "* how well does hellcats perform?  ;)\n",
            "\n",
            "thanks a bunch in advance for any info - if you could email, i'll post a\n",
            "summary (news reading time is at a premium with finals just around the\n",
            "corner... :( )\n",
            "--\n",
            "Tom Willis  \\  twillis@ecn.purdue.edu    \\    Purdue Electrical Engineering\n",
            "---------------------------------------------------------------------------\n",
            "\"Convictions are more dangerous enemies of truth than lies.\"  - F. W.\n",
            "Nietzsche\n",
            "\n"
          ]
        }
      ]
    },
    {
      "cell_type": "code",
      "source": [
        "from sklearn.feature_extraction.text import TfidfVectorizer"
      ],
      "metadata": {
        "id": "JYa027fv1Mxh"
      },
      "execution_count": 3,
      "outputs": []
    },
    {
      "cell_type": "code",
      "source": [
        "vectorizer = TfidfVectorizer()\n",
        "x = vectorizer.fit_transform(data.data)\n",
        "print(x)"
      ],
      "metadata": {
        "colab": {
          "base_uri": "https://localhost:8080/"
        },
        "id": "Md6CD8yzkUZN",
        "outputId": "cd2a72a9-eb22-4707-8429-2beae7590bb3"
      },
      "execution_count": 18,
      "outputs": [
        {
          "output_type": "stream",
          "name": "stdout",
          "text": [
            "  (0, 86580)\t0.13157118714240987\n",
            "  (0, 128420)\t0.04278499079283093\n",
            "  (0, 35983)\t0.03770448563619875\n",
            "  (0, 35187)\t0.09353930598317124\n",
            "  (0, 66098)\t0.09785515708314481\n",
            "  (0, 114428)\t0.05511105154696676\n",
            "  (0, 78955)\t0.05989856888061599\n",
            "  (0, 94362)\t0.055457031390147224\n",
            "  (0, 76722)\t0.06908779999621749\n",
            "  (0, 57308)\t0.1558717009157704\n",
            "  (0, 62221)\t0.02921527992427867\n",
            "  (0, 128402)\t0.05922294083277842\n",
            "  (0, 67156)\t0.07313443922740179\n",
            "  (0, 123989)\t0.08207027465330353\n",
            "  (0, 90252)\t0.031889368795417566\n",
            "  (0, 63363)\t0.08342748387969037\n",
            "  (0, 78784)\t0.0633940918806495\n",
            "  (0, 96144)\t0.10826904490745741\n",
            "  (0, 128026)\t0.060622095889758885\n",
            "  (0, 109271)\t0.10844724822064673\n",
            "  (0, 51730)\t0.09714744057976722\n",
            "  (0, 86001)\t0.07000411445838192\n",
            "  (0, 83256)\t0.08844382496462173\n",
            "  (0, 113986)\t0.17691750674853082\n",
            "  (0, 37565)\t0.03431760442478462\n",
            "  :\t:\n",
            "  (11313, 87626)\t0.041237139601784885\n",
            "  (11313, 30044)\t0.03581554412880591\n",
            "  (11313, 76377)\t0.0635841806495367\n",
            "  (11313, 119714)\t0.05924995560199499\n",
            "  (11313, 47982)\t0.04878764010149914\n",
            "  (11313, 28146)\t0.04703946070749562\n",
            "  (11313, 88363)\t0.13916610283479094\n",
            "  (11313, 56283)\t0.026074886321515986\n",
            "  (11313, 111695)\t0.08039375842219382\n",
            "  (11313, 90252)\t0.03304599951634829\n",
            "  (11313, 51730)\t0.10067098834752665\n",
            "  (11313, 68766)\t0.026413823187147637\n",
            "  (11313, 89860)\t0.029615670644273114\n",
            "  (11313, 80638)\t0.0409862722594402\n",
            "  (11313, 4605)\t0.06562288156075427\n",
            "  (11313, 76032)\t0.019916554974882542\n",
            "  (11313, 89362)\t0.022525659920776243\n",
            "  (11313, 90379)\t0.020651681778766563\n",
            "  (11313, 64095)\t0.03670564487644039\n",
            "  (11313, 95162)\t0.035721664777432695\n",
            "  (11313, 87620)\t0.03696568532482317\n",
            "  (11313, 111322)\t0.019851534178948714\n",
            "  (11313, 85354)\t0.03831068303611253\n",
            "  (11313, 50527)\t0.056595152440003904\n",
            "  (11313, 56979)\t0.03970306835789743\n"
          ]
        }
      ]
    },
    {
      "cell_type": "code",
      "source": [
        "import numpy as np"
      ],
      "metadata": {
        "id": "jF_SNlwukaQg"
      },
      "execution_count": 5,
      "outputs": []
    },
    {
      "cell_type": "code",
      "source": [
        "from sklearn.metrics.pairwise import cosine_similarity\n",
        "\n",
        "def cosine(a1, a2):\n",
        "\n",
        "    v1 = np.array(a1)\n",
        "    v2 = np.array(a2)\n",
        "\n",
        "    a1 = v1.reshape(1, -1)\n",
        "    a2 = v2.reshape(1, -1)\n",
        "\n",
        "    dot_product = np.dot(a1, a2.T)\n",
        "    magnitude_a1 = np.linalg.norm(a1)\n",
        "    magnitude_a2 = np.linalg.norm(a2)\n",
        "    cosine_similarity_value = dot_product / (magnitude_a1 * magnitude_a2)\n",
        "\n",
        "    return cosine_similarity_value[0, 0]\n",
        "\n",
        "\n",
        "\n",
        "a1 = [0.3, 0.7, 0.6]\n",
        "a2 = [0.1, 0.3, 0.5]\n",
        "\n",
        "similarity = cosine(a1, a2)\n",
        "print(similarity)"
      ],
      "metadata": {
        "colab": {
          "base_uri": "https://localhost:8080/"
        },
        "id": "aWccPQ25kkKD",
        "outputId": "508a9111-2a6a-44eb-8329-7fe0b22fabe6"
      },
      "execution_count": 14,
      "outputs": [
        {
          "output_type": "stream",
          "name": "stdout",
          "text": [
            "0.9414468590684492\n"
          ]
        }
      ]
    },
    {
      "cell_type": "code",
      "source": [
        "newsgroups = fetch_20newsgroups(subset='all', remove=('headers', 'footers', 'quotes'))"
      ],
      "metadata": {
        "id": "jGQCSniKk2ra"
      },
      "execution_count": 7,
      "outputs": []
    },
    {
      "cell_type": "code",
      "source": [
        "def similarity(input_document, documents, vectorizer, top_n=5):\n",
        "\n",
        "    inputvector = vectorizer.transform([input_document])\n",
        "    documents = vectorizer.transform(documents)\n",
        "    similarities = cosine_similarity(inputvector, documents)\n",
        "    sorted = similarities.argsort(axis=1)[:, ::-1]\n",
        "    top_n = sorted[0][:top_n]\n",
        "    results = [(documents[i], similarities[0, i]) for i in top_n]\n",
        "    return results"
      ],
      "metadata": {
        "id": "lZqqWW47k9h9"
      },
      "execution_count": 8,
      "outputs": []
    },
    {
      "cell_type": "code",
      "source": [
        "input_document = \"Your input document goes here. This is the document for which you want to find similar documents.\"\n",
        "vectorizer = TfidfVectorizer(stop_words='english')\n",
        "tfidf_matrix = vectorizer.fit_transform(newsgroups.data)\n",
        "similar_documents = similarity(input_document, newsgroups.data, vectorizer)\n",
        "for i, (doc, similarity) in enumerate(similar_documents, start=1):\n",
        "    print(f\"Rank {i}: Similarity = {similarity:.4f}\\n{doc}\\n{'-'*50}\\n\")\n"
      ],
      "metadata": {
        "id": "yXK_94T7k_kr"
      },
      "execution_count": null,
      "outputs": []
    }
  ]
}